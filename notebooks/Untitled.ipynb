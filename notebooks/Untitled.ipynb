{
 "cells": [
  {
   "cell_type": "code",
   "execution_count": 121,
   "id": "da01aede",
   "metadata": {},
   "outputs": [],
   "source": [
    "import matplotlib.pyplot as plt\n",
    "import numpy as np\n",
    "import os\n",
    "import pyuvdata\n",
    "import pyuvsim\n",
    "import uvtools"
   ]
  },
  {
   "cell_type": "markdown",
   "id": "ac1d4758",
   "metadata": {},
   "source": [
    "## Convert beam file to .txt that can be parsed by UVBeam"
   ]
  },
  {
   "cell_type": "code",
   "execution_count": 122,
   "id": "6e8592c4",
   "metadata": {},
   "outputs": [],
   "source": [
    "DIR='001SweepAntennaAngle'\n",
    "FNAME_BASE='RadiatedElectricField_Freq10MHz_AntennaLength6m_AntennaAngle30deg_LanderHeight2m_in_phase'\n",
    "FREQ=10*1e6  # Hz"
   ]
  },
  {
   "cell_type": "code",
   "execution_count": 123,
   "id": "526b2e29",
   "metadata": {},
   "outputs": [],
   "source": [
    "def rev_indices(arr, ph, th):\n",
    "    \"\"\"\n",
    "    Convert from phi changing fastest to theta changing fastest (Fortran style to C style)\n",
    "    \"\"\"\n",
    "    return arr.copy().reshape(np.unique(ph).size, np.unique(th).size, order='F').flatten(order='C')\n",
    "\n",
    "def to_txt(dirpath, fname_base, save=True):\n",
    "    components=['rEX', 'rEY', 'rEZ']\n",
    "    # load phi and theta\n",
    "    phi,theta=np.loadtxt(\n",
    "        os.path.join('../data/AntennaSimResults', dirpath, fname_base+'_re('+components[0]+').csv'),\n",
    "        skiprows=1,\n",
    "        delimiter=',',\n",
    "        usecols=(0,1)\n",
    "    ).T\n",
    "    data_len=phi.size\n",
    "    E_field_mag=np.empty((len(components), data_len))  # magnitude squared of e field components\n",
    "    for i, component in enumerate(components):\n",
    "        re_path=os.path.join('../data/AntennaSimResults', dirpath, fname_base+'_re('+component+').csv')\n",
    "        im_path=os.path.join('../data/AntennaSimResults', dirpath, fname_base+'_im('+component+').csv')\n",
    "        real_part=np.loadtxt(re_path, skiprows=1, delimiter=',', usecols=2)\n",
    "        im_part=np.loadtxt(im_path, skiprows=1, delimiter=',', usecols=2)\n",
    "        E_mag=real_part**2+im_part**2 \n",
    "        E_field_mag[i]=E_mag\n",
    "        \n",
    "    volt_beam=np.sqrt(E_field_mag.sum(axis=0)) # sum over x,y,z-components\n",
    "    volt_beam/=1e3  # mV to V\n",
    "    \n",
    "    data=np.empty((data_len, 3))\n",
    "    data[:,0]=rev_indices(theta, phi, theta)\n",
    "    data[:,1]=rev_indices(phi, phi, theta)\n",
    "    data[:,2]=rev_indices(volt_beam, phi, theta)\n",
    "    \n",
    "    # data is now in the form that all the phi values are increasing\n",
    "    assert np.diff(data[:, 1]).min() >= 0  # proof\n",
    "    \n",
    "    # make phis go 0  to 2pi\n",
    "    neg_phi=np.argwhere(data[:,1] < 0)[:,0]\n",
    "    assert np.allclose(np.diff(neg_phi), np.ones_like(neg_phi)[:-1])\n",
    "    data[neg_phi,1] += 360\n",
    "    neg_phi_max = len(neg_phi)\n",
    "    data=np.concatenate((data[neg_phi_max:], data[:neg_phi_max]))\n",
    "    assert np.diff(data[:, 1]).min() >= 0  # phi is still increasing\n",
    "    assert data[:, 1].min() >= 0  # and is bigger than 0 everywhere\n",
    "    \n",
    "    # cut phi if it wraps around\n",
    "    phi_diff=phi[1]-phi[0]\n",
    "    wrap_idx=np.argwhere(data[:, 1] - data[:,1].min() >= 360-2*phi_diff)[:,0]\n",
    "    if len(wrap_idx):  # phi wraps around\n",
    "        data = np.delete(data, wrap_idx, axis=0)\n",
    "\n",
    "    \n",
    "    if not save:\n",
    "        return data\n",
    "    else:\n",
    "        outpath=os.path.join('../data/txt_beams', dirpath, fname_base+'.txt')\n",
    "        if not dirpath in os.listdir('../data/txt_beams'):\n",
    "            print(f'{dirpath} not found, making dir')\n",
    "            os.makedirs(os.path.join('../data/txt_beams', dirpath))\n",
    "        np.savetxt(outpath, data, header='Theta [deg.] Phi [deg.] Abs(V) [V] \\n\\n', comments='')\n",
    "\n",
    "        return outpath"
   ]
  },
  {
   "cell_type": "code",
   "execution_count": 126,
   "id": "09137885",
   "metadata": {},
   "outputs": [],
   "source": [
    "op=to_txt(DIR, FNAME_BASE, save=False)"
   ]
  },
  {
   "cell_type": "markdown",
   "id": "2f315d26",
   "metadata": {},
   "source": [
    "## Initialize UVBeam object"
   ]
  },
  {
   "cell_type": "code",
   "execution_count": 125,
   "id": "d218a13e",
   "metadata": {},
   "outputs": [
    {
     "ename": "ValueError",
     "evalue": "Data does not appear to be on a grid",
     "output_type": "error",
     "traceback": [
      "\u001b[0;31m---------------------------------------------------------------------------\u001b[0m",
      "\u001b[0;31mValueError\u001b[0m                                Traceback (most recent call last)",
      "\u001b[0;32m/tmp/ipykernel_3776/1379098492.py\u001b[0m in \u001b[0;36m<module>\u001b[0;34m\u001b[0m\n\u001b[1;32m      1\u001b[0m \u001b[0muvb\u001b[0m\u001b[0;34m=\u001b[0m\u001b[0mpyuvdata\u001b[0m\u001b[0;34m.\u001b[0m\u001b[0muvbeam\u001b[0m\u001b[0;34m.\u001b[0m\u001b[0mUVBeam\u001b[0m\u001b[0;34m(\u001b[0m\u001b[0;34m)\u001b[0m\u001b[0;34m\u001b[0m\u001b[0;34m\u001b[0m\u001b[0m\n\u001b[0;32m----> 2\u001b[0;31m uvb.read_cst_beam(filename=op, beam_type=\"power\", feed_pol=\"x\", rotate_pol=False,\n\u001b[0m\u001b[1;32m      3\u001b[0m                   \u001b[0mfrequency\u001b[0m\u001b[0;34m=\u001b[0m\u001b[0mFREQ\u001b[0m\u001b[0;34m,\u001b[0m \u001b[0mtelescope_name\u001b[0m\u001b[0;34m=\u001b[0m\u001b[0;34m'lusee-night'\u001b[0m\u001b[0;34m,\u001b[0m \u001b[0mfeed_name\u001b[0m\u001b[0;34m=\u001b[0m\u001b[0;34m'monopole'\u001b[0m\u001b[0;34m,\u001b[0m \u001b[0mfeed_version\u001b[0m\u001b[0;34m=\u001b[0m\u001b[0;34m'1.0'\u001b[0m\u001b[0;34m,\u001b[0m\u001b[0;34m\u001b[0m\u001b[0;34m\u001b[0m\u001b[0m\n\u001b[1;32m      4\u001b[0m                   \u001b[0mmodel_name\u001b[0m\u001b[0;34m=\u001b[0m\u001b[0;34m'in-phase'\u001b[0m\u001b[0;34m,\u001b[0m \u001b[0mmodel_version\u001b[0m\u001b[0;34m=\u001b[0m\u001b[0;34m'1.0'\u001b[0m\u001b[0;34m,\u001b[0m \u001b[0mhistory\u001b[0m\u001b[0;34m=\u001b[0m\u001b[0;34m\"\"\u001b[0m\u001b[0;34m,\u001b[0m \u001b[0mx_orientation\u001b[0m\u001b[0;34m=\u001b[0m\u001b[0;34m'north'\u001b[0m\u001b[0;34m,\u001b[0m\u001b[0;34m\u001b[0m\u001b[0;34m\u001b[0m\u001b[0m\n\u001b[1;32m      5\u001b[0m                   reference_impedance=50)\n",
      "\u001b[0;32m~/Documents/research/lusee/.venv_pyuvsim/lib/python3.8/site-packages/pyuvdata/uvbeam/uvbeam.py\u001b[0m in \u001b[0;36mread_cst_beam\u001b[0;34m(self, filename, beam_type, feed_pol, rotate_pol, frequency, telescope_name, feed_name, feed_version, model_name, model_version, history, x_orientation, reference_impedance, extra_keywords, frequency_select, run_check, check_extra, run_check_acceptability)\u001b[0m\n\u001b[1;32m   3380\u001b[0m                 \u001b[0mrotate_pol\u001b[0m \u001b[0;34m=\u001b[0m \u001b[0;32mTrue\u001b[0m\u001b[0;34m\u001b[0m\u001b[0;34m\u001b[0m\u001b[0m\n\u001b[1;32m   3381\u001b[0m             \u001b[0mcst_beam_obj\u001b[0m \u001b[0;34m=\u001b[0m \u001b[0mcst_beam\u001b[0m\u001b[0;34m.\u001b[0m\u001b[0mCSTBeam\u001b[0m\u001b[0;34m(\u001b[0m\u001b[0;34m)\u001b[0m\u001b[0;34m\u001b[0m\u001b[0;34m\u001b[0m\u001b[0m\n\u001b[0;32m-> 3382\u001b[0;31m             cst_beam_obj.read_cst_beam(\n\u001b[0m\u001b[1;32m   3383\u001b[0m                 \u001b[0mcst_filename\u001b[0m\u001b[0;34m,\u001b[0m\u001b[0;34m\u001b[0m\u001b[0;34m\u001b[0m\u001b[0m\n\u001b[1;32m   3384\u001b[0m                 \u001b[0mbeam_type\u001b[0m\u001b[0;34m=\u001b[0m\u001b[0mbeam_type\u001b[0m\u001b[0;34m,\u001b[0m\u001b[0;34m\u001b[0m\u001b[0;34m\u001b[0m\u001b[0m\n",
      "\u001b[0;32m~/Documents/research/lusee/.venv_pyuvsim/lib/python3.8/site-packages/pyuvdata/uvbeam/cst_beam.py\u001b[0m in \u001b[0;36mread_cst_beam\u001b[0;34m(self, filename, beam_type, feed_pol, rotate_pol, frequency, telescope_name, feed_name, feed_version, model_name, model_version, history, x_orientation, reference_impedance, extra_keywords, run_check, check_extra, run_check_acceptability)\u001b[0m\n\u001b[1;32m    223\u001b[0m         \u001b[0mphi_axis\u001b[0m \u001b[0;34m=\u001b[0m \u001b[0mnp\u001b[0m\u001b[0;34m.\u001b[0m\u001b[0msort\u001b[0m\u001b[0;34m(\u001b[0m\u001b[0mnp\u001b[0m\u001b[0;34m.\u001b[0m\u001b[0munique\u001b[0m\u001b[0;34m(\u001b[0m\u001b[0mphi_data\u001b[0m\u001b[0;34m)\u001b[0m\u001b[0;34m)\u001b[0m\u001b[0;34m\u001b[0m\u001b[0;34m\u001b[0m\u001b[0m\n\u001b[1;32m    224\u001b[0m         \u001b[0;32mif\u001b[0m \u001b[0;32mnot\u001b[0m \u001b[0mtheta_axis\u001b[0m\u001b[0;34m.\u001b[0m\u001b[0msize\u001b[0m \u001b[0;34m*\u001b[0m \u001b[0mphi_axis\u001b[0m\u001b[0;34m.\u001b[0m\u001b[0msize\u001b[0m \u001b[0;34m==\u001b[0m \u001b[0mtheta_data\u001b[0m\u001b[0;34m.\u001b[0m\u001b[0msize\u001b[0m\u001b[0;34m:\u001b[0m\u001b[0;34m\u001b[0m\u001b[0;34m\u001b[0m\u001b[0m\n\u001b[0;32m--> 225\u001b[0;31m             \u001b[0;32mraise\u001b[0m \u001b[0mValueError\u001b[0m\u001b[0;34m(\u001b[0m\u001b[0;34m\"Data does not appear to be on a grid\"\u001b[0m\u001b[0;34m)\u001b[0m\u001b[0;34m\u001b[0m\u001b[0;34m\u001b[0m\u001b[0m\n\u001b[0m\u001b[1;32m    226\u001b[0m \u001b[0;34m\u001b[0m\u001b[0m\n\u001b[1;32m    227\u001b[0m         \u001b[0mtheta_data\u001b[0m \u001b[0;34m=\u001b[0m \u001b[0mtheta_data\u001b[0m\u001b[0;34m.\u001b[0m\u001b[0mreshape\u001b[0m\u001b[0;34m(\u001b[0m\u001b[0;34m(\u001b[0m\u001b[0mtheta_axis\u001b[0m\u001b[0;34m.\u001b[0m\u001b[0msize\u001b[0m\u001b[0;34m,\u001b[0m \u001b[0mphi_axis\u001b[0m\u001b[0;34m.\u001b[0m\u001b[0msize\u001b[0m\u001b[0;34m)\u001b[0m\u001b[0;34m,\u001b[0m \u001b[0morder\u001b[0m\u001b[0;34m=\u001b[0m\u001b[0;34m\"F\"\u001b[0m\u001b[0;34m)\u001b[0m\u001b[0;34m\u001b[0m\u001b[0;34m\u001b[0m\u001b[0m\n",
      "\u001b[0;31mValueError\u001b[0m: Data does not appear to be on a grid"
     ]
    }
   ],
   "source": [
    "uvb=pyuvdata.uvbeam.UVBeam()\n",
    "uvb.read_cst_beam(filename=op, beam_type=\"power\", feed_pol=\"x\", rotate_pol=False,\n",
    "                  frequency=FREQ, telescope_name='lusee-night', feed_name='monopole', feed_version='1.0',\n",
    "                  model_name='in-phase', model_version='1.0', history=\"\", x_orientation='north',\n",
    "                  reference_impedance=50)"
   ]
  },
  {
   "cell_type": "code",
   "execution_count": 127,
   "id": "62114a86",
   "metadata": {},
   "outputs": [],
   "source": [
    "theta_data = np.radians(op[:, 0])\n",
    "phi_data = np.radians(op[:, 1])"
   ]
  },
  {
   "cell_type": "code",
   "execution_count": 129,
   "id": "26af30ae",
   "metadata": {},
   "outputs": [],
   "source": [
    "theta_axis = np.sort(np.unique(theta_data))\n",
    "phi_axis = np.sort(np.unique(phi_data))"
   ]
  },
  {
   "cell_type": "code",
   "execution_count": 136,
   "id": "66362b90",
   "metadata": {},
   "outputs": [
    {
     "data": {
      "text/plain": [
       "91"
      ]
     },
     "execution_count": 136,
     "metadata": {},
     "output_type": "execute_result"
    }
   ],
   "source": [
    "theta_axis.size"
   ]
  },
  {
   "cell_type": "code",
   "execution_count": 137,
   "id": "c7fc1491",
   "metadata": {},
   "outputs": [
    {
     "data": {
      "text/plain": [
       "178"
      ]
     },
     "execution_count": 137,
     "metadata": {},
     "output_type": "execute_result"
    }
   ],
   "source": [
    "phi_axis.size"
   ]
  },
  {
   "cell_type": "code",
   "execution_count": 133,
   "id": "298ca544",
   "metadata": {},
   "outputs": [
    {
     "data": {
      "text/plain": [
       "16198"
      ]
     },
     "execution_count": 133,
     "metadata": {},
     "output_type": "execute_result"
    }
   ],
   "source": [
    "theta_axis.size * phi_axis.size"
   ]
  },
  {
   "cell_type": "code",
   "execution_count": 135,
   "id": "d5a4a1ae",
   "metadata": {},
   "outputs": [
    {
     "data": {
      "text/plain": [
       "16198"
      ]
     },
     "execution_count": 135,
     "metadata": {},
     "output_type": "execute_result"
    }
   ],
   "source": [
    "theta_data.size - 91"
   ]
  },
  {
   "cell_type": "code",
   "execution_count": 130,
   "id": "6daed027",
   "metadata": {},
   "outputs": [
    {
     "ename": "ValueError",
     "evalue": "Data does not appear to be on a grid",
     "output_type": "error",
     "traceback": [
      "\u001b[0;31m---------------------------------------------------------------------------\u001b[0m",
      "\u001b[0;31mValueError\u001b[0m                                Traceback (most recent call last)",
      "\u001b[0;32m/tmp/ipykernel_3776/2101746378.py\u001b[0m in \u001b[0;36m<module>\u001b[0;34m\u001b[0m\n\u001b[1;32m      1\u001b[0m \u001b[0;32mif\u001b[0m \u001b[0;32mnot\u001b[0m \u001b[0mtheta_axis\u001b[0m\u001b[0;34m.\u001b[0m\u001b[0msize\u001b[0m \u001b[0;34m*\u001b[0m \u001b[0mphi_axis\u001b[0m\u001b[0;34m.\u001b[0m\u001b[0msize\u001b[0m \u001b[0;34m==\u001b[0m \u001b[0mtheta_data\u001b[0m\u001b[0;34m.\u001b[0m\u001b[0msize\u001b[0m\u001b[0;34m:\u001b[0m\u001b[0;34m\u001b[0m\u001b[0;34m\u001b[0m\u001b[0m\n\u001b[0;32m----> 2\u001b[0;31m     \u001b[0;32mraise\u001b[0m \u001b[0mValueError\u001b[0m\u001b[0;34m(\u001b[0m\u001b[0;34m\"Data does not appear to be on a grid\"\u001b[0m\u001b[0;34m)\u001b[0m\u001b[0;34m\u001b[0m\u001b[0;34m\u001b[0m\u001b[0m\n\u001b[0m",
      "\u001b[0;31mValueError\u001b[0m: Data does not appear to be on a grid"
     ]
    }
   ],
   "source": [
    "if not theta_axis.size * phi_axis.size == theta_data.size:\n",
    "    raise ValueError(\"Data does not appear to be on a grid\")"
   ]
  },
  {
   "cell_type": "code",
   "execution_count": 100,
   "id": "e727aa48",
   "metadata": {},
   "outputs": [
    {
     "ename": "TypeError",
     "evalue": "'NoneType' object is not subscriptable",
     "output_type": "error",
     "traceback": [
      "\u001b[0;31m---------------------------------------------------------------------------\u001b[0m",
      "\u001b[0;31mTypeError\u001b[0m                                 Traceback (most recent call last)",
      "\u001b[0;32m/tmp/ipykernel_3776/2045524032.py\u001b[0m in \u001b[0;36m<module>\u001b[0;34m\u001b[0m\n\u001b[1;32m      1\u001b[0m \u001b[0;31m# beam vs phi and theta (data coordinates, extent is [pi/2, 3pi/2, 0, pi])\u001b[0m\u001b[0;34m\u001b[0m\u001b[0;34m\u001b[0m\u001b[0;34m\u001b[0m\u001b[0m\n\u001b[1;32m      2\u001b[0m \u001b[0mplt\u001b[0m\u001b[0;34m.\u001b[0m\u001b[0mfigure\u001b[0m\u001b[0;34m(\u001b[0m\u001b[0;34m)\u001b[0m\u001b[0;34m\u001b[0m\u001b[0;34m\u001b[0m\u001b[0m\n\u001b[0;32m----> 3\u001b[0;31m \u001b[0muvtools\u001b[0m\u001b[0;34m.\u001b[0m\u001b[0mplot\u001b[0m\u001b[0;34m.\u001b[0m\u001b[0mwaterfall\u001b[0m\u001b[0;34m(\u001b[0m\u001b[0muvb\u001b[0m\u001b[0;34m.\u001b[0m\u001b[0mdata_array\u001b[0m\u001b[0;34m[\u001b[0m\u001b[0;36m0\u001b[0m\u001b[0;34m,\u001b[0m\u001b[0;36m0\u001b[0m\u001b[0;34m,\u001b[0m\u001b[0;36m0\u001b[0m\u001b[0;34m,\u001b[0m\u001b[0;36m0\u001b[0m\u001b[0;34m]\u001b[0m\u001b[0;34m,\u001b[0m \u001b[0mmode\u001b[0m\u001b[0;34m=\u001b[0m\u001b[0;34m'real'\u001b[0m\u001b[0;34m)\u001b[0m\u001b[0;34m\u001b[0m\u001b[0;34m\u001b[0m\u001b[0m\n\u001b[0m\u001b[1;32m      4\u001b[0m \u001b[0mplt\u001b[0m\u001b[0;34m.\u001b[0m\u001b[0mtitle\u001b[0m\u001b[0;34m(\u001b[0m\u001b[0;34m'Beam at $\\\\nu=10$ MHz'\u001b[0m\u001b[0;34m)\u001b[0m\u001b[0;34m\u001b[0m\u001b[0;34m\u001b[0m\u001b[0m\n\u001b[1;32m      5\u001b[0m \u001b[0mplt\u001b[0m\u001b[0;34m.\u001b[0m\u001b[0mcolorbar\u001b[0m\u001b[0;34m(\u001b[0m\u001b[0;34m)\u001b[0m\u001b[0;34m\u001b[0m\u001b[0;34m\u001b[0m\u001b[0m\n",
      "\u001b[0;31mTypeError\u001b[0m: 'NoneType' object is not subscriptable"
     ]
    },
    {
     "data": {
      "text/plain": [
       "<Figure size 432x288 with 0 Axes>"
      ]
     },
     "metadata": {},
     "output_type": "display_data"
    }
   ],
   "source": [
    "# beam vs phi and theta (data coordinates, extent is [pi/2, 3pi/2, 0, pi])\n",
    "plt.figure()\n",
    "uvtools.plot.waterfall(uvb.data_array[0,0,0,0], mode='real')\n",
    "plt.title('Beam at $\\\\nu=10$ MHz')\n",
    "plt.colorbar()\n",
    "plt.show()"
   ]
  },
  {
   "cell_type": "code",
   "execution_count": 71,
   "id": "f2decb93",
   "metadata": {},
   "outputs": [],
   "source": [
    "beampath=os.path.join('../data/uvbeams', DIR, FNAME_BASE+'.uvbeam')\n",
    "uvb.write_beamfits(beampath, clobber=True)"
   ]
  },
  {
   "cell_type": "code",
   "execution_count": 95,
   "id": "71318f4a",
   "metadata": {},
   "outputs": [],
   "source": [
    "# uvb=pyuvdata.uvbeam.UVBeam()\n",
    "# uvb.Naxes_vec=3\n",
    "# uvb.Nfreqs=1\n",
    "# uvb.Nspws=1  # only supported value\n",
    "# uvb.antenna_type='simple'\n",
    "# uvb.bandpass_array=np.zeros((uvb.Nspws, uvb.Nfreqs)) # ?\n",
    "# uvb.beam_type='efield'\n",
    "# # feed_pol='xx'\n",
    "# # rot_pol_dict = {\"xx\": \"yy\", \"yy\": \"xx\", \"xy\": \"yx\", \"yx\": \"xy\"}\n",
    "# # pol2 = rot_pol_dict[feed_pol]\n",
    "# # uvb.polarization_array = np.array([utils.polstr2num(feed_pol), utils.polstr2num(pol2)])\n",
    "# # uvb.Npols = len(uvb.polarization_array)\n",
    "# uvb.Npols=1\n",
    "# uvb.Naxes2=np.unique(theta).size\n",
    "# uvb.Naxes1=np.unique(phi).size\n",
    "#  # shape = Naxes_vec, Nspws, Nfeeds or Npols, Nfreqs, Naxes2, Naxes1\n",
    "# uvb.data_array=np.empty((uvb.Naxes_vec,uvb.Nspws,uvb.Npols,uvb.Nfreqs,uvb.Naxes2,uvb.Naxes1), dtype=np.complex64)\n",
    "# for i in range(3):\n",
    "#     uvb.data_array[i, 0, 0, 0, :, :]=E_field[i].T.copy()\n",
    "# uvb.data_normalization='physical'\n",
    "# uvb.feed_name='lusee'\n",
    "# uvb.feed_version='v1.0'\n",
    "# uvb.freq_array=np.expand_dims(np.unique(freq)*1e9, axis=0)\n",
    "# uvb.history=''\n",
    "# uvb.model_name='inphase_25cm'\n",
    "# uvb.model_version='v1.0'\n",
    "# uvb.pixel_coordinate_system='az_za'\n",
    "# uvb.spw_array=np.array([0])\n",
    "# uvb.telescope_name='lusee-night'"
   ]
  },
  {
   "cell_type": "code",
   "execution_count": 57,
   "id": "7cfd6df3",
   "metadata": {},
   "outputs": [
    {
     "data": {
      "text/plain": [
       "(3, 181, 91)"
      ]
     },
     "execution_count": 57,
     "metadata": {},
     "output_type": "execute_result"
    }
   ],
   "source": [
    "E_field.shape"
   ]
  },
  {
   "cell_type": "code",
   "execution_count": 56,
   "id": "382dacb0",
   "metadata": {},
   "outputs": [
    {
     "data": {
      "text/plain": [
       "(3, 1, 1, 1, 91, 181)"
      ]
     },
     "execution_count": 56,
     "metadata": {},
     "output_type": "execute_result"
    }
   ],
   "source": [
    "uvb.data_array.shape"
   ]
  },
  {
   "cell_type": "code",
   "execution_count": 120,
   "id": "50f97b11",
   "metadata": {},
   "outputs": [],
   "source": [
    "for i, f in enumerate(np.unique(freq)):\n",
    "    freq_indices=np.argwhere(freq==f)[:,0]\n",
    "    uvb.data_array[0,0,0,i,:,:]=gain[freq_indices].reshape(\n",
    "        (np.unique(theta).size, np.unique(phi).size), order='F'\n",
    "    )"
   ]
  },
  {
   "cell_type": "code",
   "execution_count": 129,
   "id": "b1d62195",
   "metadata": {},
   "outputs": [
    {
     "data": {
      "text/plain": [
       "2.0"
      ]
     },
     "execution_count": 129,
     "metadata": {},
     "output_type": "execute_result"
    }
   ],
   "source": [
    "freq[0]*1e2"
   ]
  }
 ],
 "metadata": {
  "kernelspec": {
   "display_name": "Python 3 (ipykernel)",
   "language": "python",
   "name": "python3"
  },
  "language_info": {
   "codemirror_mode": {
    "name": "ipython",
    "version": 3
   },
   "file_extension": ".py",
   "mimetype": "text/x-python",
   "name": "python",
   "nbconvert_exporter": "python",
   "pygments_lexer": "ipython3",
   "version": "3.8.10"
  }
 },
 "nbformat": 4,
 "nbformat_minor": 5
}
