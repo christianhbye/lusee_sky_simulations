{
 "cells": [
  {
   "cell_type": "code",
   "execution_count": 126,
   "id": "da01aede",
   "metadata": {},
   "outputs": [],
   "source": [
    "import matplotlib.pyplot as plt\n",
    "import numpy as np\n",
    "import os\n",
    "import pyuvdata\n",
    "import pyuvsim\n",
    "import uvtools"
   ]
  },
  {
   "cell_type": "markdown",
   "id": "ac1d4758",
   "metadata": {},
   "source": [
    "## Convert beam file to .txt that can be parsed by UVBeam"
   ]
  },
  {
   "cell_type": "code",
   "execution_count": 91,
   "id": "6e8592c4",
   "metadata": {},
   "outputs": [],
   "source": [
    "DIR='001SweepAntennaAngle'\n",
    "FNAME_BASE='RadiatedElectricField_Freq10MHz_AntennaLength6m_AntennaAngle30deg_LanderHeight2m_in_phase'\n",
    "FREQ=10*1e6  # Hz"
   ]
  },
  {
   "cell_type": "code",
   "execution_count": 92,
   "id": "526b2e29",
   "metadata": {},
   "outputs": [],
   "source": [
    "def rev_indices(arr, ph, th):\n",
    "    \"\"\"\n",
    "    Convert from phi changing fastest to theta changing fastest (Fortran style to C style)\n",
    "    \"\"\"\n",
    "    return arr.copy().reshape(np.unique(ph).size, np.unique(th).size, order='F').flatten(order='C')\n",
    "\n",
    "def to_txt(dirpath, fname_base):\n",
    "    components=['rEX', 'rEY', 'rEZ']\n",
    "    # load phi and theta\n",
    "    phi,theta=np.loadtxt(\n",
    "        os.path.join('../data/AntennaSimResults', dirpath, fname_base+'_re('+components[0]+').csv'),\n",
    "        skiprows=1,\n",
    "        delimiter=',',\n",
    "        usecols=(0,1)\n",
    "    ).T\n",
    "    data_len=phi.size\n",
    "    E_field_mag=np.empty((len(components), data_len))  # magnitude squared of e field components\n",
    "    for i, component in enumerate(components):\n",
    "        re_path=os.path.join('../data/AntennaSimResults', dirpath, fname_base+'_re('+component+').csv')\n",
    "        im_path=os.path.join('../data/AntennaSimResults', dirpath, fname_base+'_im('+component+').csv')\n",
    "        real_part=np.loadtxt(re_path, skiprows=1, delimiter=',', usecols=2)\n",
    "        im_part=np.loadtxt(im_path, skiprows=1, delimiter=',', usecols=2)\n",
    "        E_mag=real_part**2+im_part**2 \n",
    "        E_field_mag[i]=E_mag\n",
    "        \n",
    "    volt_beam=np.sqrt(E_field_mag.sum(axis=0)) # sum over x,y,z-components\n",
    "    volt_beam/=1e3  # mV to V\n",
    "    \n",
    "    data=np.empty((data_len, 3))\n",
    "    data[:,0]=rev_indices(theta, phi, theta)\n",
    "    data[:,1]=rev_indices(phi, phi, theta)\n",
    "    data[:,2]=rev_indices(volt_beam, phi, theta)\n",
    "    \n",
    "    outpath=os.path.join('../data/txt_beams', dirpath, fname_base+'.txt')\n",
    "    if not dirpath in os.listdir('../data/txt_beams'):\n",
    "        print(f'{dirpath} not found, making dir')\n",
    "        os.makedirs(os.path.join('../data/txt_beams', dirpath))\n",
    "    np.savetxt(outpath, data, header='Theta [deg.] Phi [deg.] Abs(V) [V] \\n\\n', comments='')\n",
    "    \n",
    "    return outpath"
   ]
  },
  {
   "cell_type": "code",
   "execution_count": 93,
   "id": "09137885",
   "metadata": {},
   "outputs": [],
   "source": [
    "fname=to_txt(DIR, FNAME_BASE)"
   ]
  },
  {
   "cell_type": "markdown",
   "id": "2f315d26",
   "metadata": {},
   "source": [
    "## Initialize UVBeam object"
   ]
  },
  {
   "cell_type": "code",
   "execution_count": 94,
   "id": "d218a13e",
   "metadata": {},
   "outputs": [],
   "source": [
    "uvb=pyuvdata.uvbeam.UVBeam()\n",
    "uvb.read_cst_beam(filename=fname, beam_type=\"power\", feed_pol=\"x\", rotate_pol=False,\n",
    "                  frequency=FREQ, telescope_name='lusee-night', feed_name='monopole', feed_version='1.0',\n",
    "                  model_name='in-phase', model_version='1.0', history=\"\", x_orientation='north',\n",
    "                  reference_impedance=50)"
   ]
  },
  {
   "cell_type": "code",
   "execution_count": 127,
   "id": "e727aa48",
   "metadata": {},
   "outputs": [
    {
     "data": {
      "image/png": "[encoded data removed]",
      "text/plain": [
       "<Figure size 432x288 with 2 Axes>"
      ]
     },
     "metadata": {
      "needs_background": "light"
     },
     "output_type": "display_data"
    }
   ],
   "source": [
    "# beam vs phi and theta (data coordinates, extent is [pi/2, 3pi/2, 0, pi])\n",
    "plt.figure()\n",
    "uvtools.plot.waterfall(uvb.data_array[0,0,0,0], mode='real')\n",
    "plt.title('Beam at $\\\\nu=10$ MHz')\n",
    "plt.colorbar()\n",
    "plt.show()"
   ]
  },
  {
   "cell_type": "code",
   "execution_count": 130,
   "id": "f2decb93",
   "metadata": {},
   "outputs": [],
   "source": [
    "beampath=os.path.join('../data/uvbeams', DIR, FNAME_BASE+'.uvbeam')\n",
    "uvb.write_beamfits(beampath)"
   ]
  },
  {
   "cell_type": "code",
   "execution_count": 95,
   "id": "71318f4a",
   "metadata": {},
   "outputs": [],
   "source": [
    "# uvb=pyuvdata.uvbeam.UVBeam()\n",
    "# uvb.Naxes_vec=3\n",
    "# uvb.Nfreqs=1\n",
    "# uvb.Nspws=1  # only supported value\n",
    "# uvb.antenna_type='simple'\n",
    "# uvb.bandpass_array=np.zeros((uvb.Nspws, uvb.Nfreqs)) # ?\n",
    "# uvb.beam_type='efield'\n",
    "# # feed_pol='xx'\n",
    "# # rot_pol_dict = {\"xx\": \"yy\", \"yy\": \"xx\", \"xy\": \"yx\", \"yx\": \"xy\"}\n",
    "# # pol2 = rot_pol_dict[feed_pol]\n",
    "# # uvb.polarization_array = np.array([utils.polstr2num(feed_pol), utils.polstr2num(pol2)])\n",
    "# # uvb.Npols = len(uvb.polarization_array)\n",
    "# uvb.Npols=1\n",
    "# uvb.Naxes2=np.unique(theta).size\n",
    "# uvb.Naxes1=np.unique(phi).size\n",
    "#  # shape = Naxes_vec, Nspws, Nfeeds or Npols, Nfreqs, Naxes2, Naxes1\n",
    "# uvb.data_array=np.empty((uvb.Naxes_vec,uvb.Nspws,uvb.Npols,uvb.Nfreqs,uvb.Naxes2,uvb.Naxes1), dtype=np.complex64)\n",
    "# for i in range(3):\n",
    "#     uvb.data_array[i, 0, 0, 0, :, :]=E_field[i].T.copy()\n",
    "# uvb.data_normalization='physical'\n",
    "# uvb.feed_name='lusee'\n",
    "# uvb.feed_version='v1.0'\n",
    "# uvb.freq_array=np.expand_dims(np.unique(freq)*1e9, axis=0)\n",
    "# uvb.history=''\n",
    "# uvb.model_name='inphase_25cm'\n",
    "# uvb.model_version='v1.0'\n",
    "# uvb.pixel_coordinate_system='az_za'\n",
    "# uvb.spw_array=np.array([0])\n",
    "# uvb.telescope_name='lusee-night'"
   ]
  },
  {
   "cell_type": "code",
   "execution_count": 57,
   "id": "7cfd6df3",
   "metadata": {},
   "outputs": [
    {
     "data": {
      "text/plain": [
       "(3, 181, 91)"
      ]
     },
     "execution_count": 57,
     "metadata": {},
     "output_type": "execute_result"
    }
   ],
   "source": [
    "E_field.shape"
   ]
  },
  {
   "cell_type": "code",
   "execution_count": 56,
   "id": "382dacb0",
   "metadata": {},
   "outputs": [
    {
     "data": {
      "text/plain": [
       "(3, 1, 1, 1, 91, 181)"
      ]
     },
     "execution_count": 56,
     "metadata": {},
     "output_type": "execute_result"
    }
   ],
   "source": [
    "uvb.data_array.shape"
   ]
  },
  {
   "cell_type": "code",
   "execution_count": 120,
   "id": "50f97b11",
   "metadata": {},
   "outputs": [],
   "source": [
    "for i, f in enumerate(np.unique(freq)):\n",
    "    freq_indices=np.argwhere(freq==f)[:,0]\n",
    "    uvb.data_array[0,0,0,i,:,:]=gain[freq_indices].reshape(\n",
    "        (np.unique(theta).size, np.unique(phi).size), order='F'\n",
    "    )"
   ]
  },
  {
   "cell_type": "code",
   "execution_count": 129,
   "id": "b1d62195",
   "metadata": {},
   "outputs": [
    {
     "data": {
      "text/plain": [
       "2.0"
      ]
     },
     "execution_count": 129,
     "metadata": {},
     "output_type": "execute_result"
    }
   ],
   "source": [
    "freq[0]*1e2"
   ]
  }
 ],
 "metadata": {
  "kernelspec": {
   "display_name": "Python 3 (ipykernel)",
   "language": "python",
   "name": "python3"
  },
  "language_info": {
   "codemirror_mode": {
    "name": "ipython",
    "version": 3
   },
   "file_extension": ".py",
   "mimetype": "text/x-python",
   "name": "python",
   "nbconvert_exporter": "python",
   "pygments_lexer": "ipython3",
   "version": "3.8.10"
  }
 },
 "nbformat": 4,
 "nbformat_minor": 5
}
