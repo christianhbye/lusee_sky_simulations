{
 "cells": [
  {
   "cell_type": "code",
   "execution_count": 136,
   "id": "da01aede",
   "metadata": {},
   "outputs": [],
   "source": [
    "import matplotlib.pyplot as plt\n",
    "import numpy as np\n",
    "import os\n",
    "import pyuvdata\n",
    "import pyuvsim\n",
    "import uvtools"
   ]
  },
  {
   "cell_type": "markdown",
   "id": "ac1d4758",
   "metadata": {},
   "source": [
    "## Convert beam file to .txt that can be parsed by UVBeam"
   ]
  },
  {
   "cell_type": "code",
   "execution_count": 137,
   "id": "6e8592c4",
   "metadata": {},
   "outputs": [],
   "source": [
    "DIR='001SweepAntennaAngle'\n",
    "FNAME_BASE='RadiatedElectricField_Freq10MHz_AntennaLength6m_AntennaAngle30deg_LanderHeight2m_in_phase'\n",
    "FREQ=10*1e6  # 10MHz"
   ]
  },
  {
   "cell_type": "code",
   "execution_count": 138,
   "id": "ad871b16",
   "metadata": {},
   "outputs": [],
   "source": [
    "fname0=os.path.join('../data/AntennaSimResults', DIR, FNAME_BASE+'_re('+'rEX'+').csv')"
   ]
  },
  {
   "cell_type": "code",
   "execution_count": 139,
   "id": "dd5e9b9e",
   "metadata": {},
   "outputs": [],
   "source": [
    "def _delete_wrap(data, col=0, period=2*np.pi):\n",
    "    \"\"\"\n",
    "    In case one of the axis is sampled around the circle (eg includes both 0 and 360), we delete the values\n",
    "    for the second round around the circle\n",
    "    \"\"\"\n",
    "    wrap_idx=np.argwhere(data[:,col] - data[:,col].min() >= period)[:,0]  # rows where the angle wraps around\n",
    "    if len(wrap_idx):  # axis wraps around\n",
    "        new_data = np.delete(data, wrap_idx, axis=0)  # delete the given rows\n",
    "    assert new_data[:,col].max()-new_data[:,col].min() < period\n",
    "    return new_data\n",
    "\n",
    "def _rev_indices(data, phi_col, theta_col):\n",
    "    \"\"\"\n",
    "    Convert from phi changing fastest to theta changing fastest (Fortran style to C style)\n",
    "    \"\"\"\n",
    "    ph=data[:, phi_col]\n",
    "    th=data[:, theta_col]\n",
    "    new_data = np.empty_like(data)\n",
    "    for i in range(new_data.shape[1]): # loop over columns\n",
    "        dcol=data[:,i].copy()\n",
    "        new_data[:,i]=dcol.reshape(np.unique(ph).size, np.unique(th).size, order='F').flatten(order='C')\n",
    "\n",
    "    return new_data\n",
    "\n",
    "def _shift_phi(data, phi_col):\n",
    "    \"\"\"\n",
    "    Change phi from going -pi->pi to 0->2pi \n",
    "    \"\"\"\n",
    "    phi=data[:,phi_col]\n",
    "    neg_phi=np.argwhere(phi < 0)[:,0]\n",
    "    #assert np.allclose(np.diff(neg_phi), np.ones_like(neg_phi)[:-1])\n",
    "    new_data=data.copy()\n",
    "    new_data[neg_phi,phi_col] += 2*np.pi\n",
    "    neg_phi_max = len(neg_phi)\n",
    "    new_data = np.concatenate((new_data[neg_phi_max:], new_data[:neg_phi_max]))\n",
    "    assert np.diff(new_data[:, phi_col]).min() >= 0  # phi is still increasing\n",
    "    assert new_data[:, phi_col].min() >= 0  # and is bigger than 0 everywhere\n",
    "    return new_data"
   ]
  },
  {
   "cell_type": "code",
   "execution_count": 140,
   "id": "0bfb501d",
   "metadata": {},
   "outputs": [],
   "source": [
    "def load_data(fname):\n",
    "    \n",
    "    f = open(fname, 'r')\n",
    "    header = f.readline().split(\",\")\n",
    "    f.close()\n",
    "    column_names = []\n",
    "    units = []\n",
    "    for col in header:\n",
    "        column_name, unit = tuple(col.split(\"[\"))\n",
    "        column_names.append(\"\".join(column_name.lower().split(\" \")))\n",
    "        units.append(unit.lower().strip())\n",
    "\n",
    "    data = np.loadtxt(fname, skiprows=1, delimiter=\",\")\n",
    "    theta_col = np.where(np.array(column_names) == \"theta\")[0][0]\n",
    "    phi_col = np.where(np.array(column_names) == \"phi\")[0][0]\n",
    "    volt_col = 2  # should be the last col\n",
    "    # check that volt col is the last col\n",
    "    assert not np.isclose(volt_col, phi_col, atol=1e-3)  # not the same as phi\n",
    "    assert not np.isclose(volt_col, theta_col, atol=1e-3)  # not the same as theta\n",
    "    assert len(data[0]) == 3  # there are 3 columns, so the last must be volt\n",
    "    assert 'v' in units[volt_col]  # check the unit to confirm\n",
    "    \n",
    "    # convert to radians\n",
    "    for col in [theta_col, phi_col]:\n",
    "        if \"deg\" in units[col]:\n",
    "            data[:, col] = np.radians(data[:, col])\n",
    "    if 'mv' in units[volt_col]:\n",
    "        data[:, volt_col] /= 1e3  # convert mV to V\n",
    "    \n",
    "    data = _delete_wrap(data, col=theta_col, period=np.pi)\n",
    "    data = _delete_wrap(data, col=phi_col, period=2*np.pi)\n",
    "    \n",
    "    data = _rev_indices(data, phi_col, theta_col)\n",
    "    \n",
    "    data = _shift_phi(data, phi_col)\n",
    "    \n",
    "    return data, theta_col, phi_col, volt_col"
   ]
  },
  {
   "cell_type": "code",
   "execution_count": 141,
   "id": "8d6ee5ad",
   "metadata": {},
   "outputs": [],
   "source": [
    "d,tc, pc, vc = load_data(fname0)"
   ]
  },
  {
   "cell_type": "code",
   "execution_count": 142,
   "id": "526b2e29",
   "metadata": {},
   "outputs": [],
   "source": [
    "def to_txt(dirpath, fname_base, save=True):\n",
    "    components=['rEX', 'rEY', 'rEZ']\n",
    "    fname0=os.path.join('../data/AntennaSimResults', dirpath, fname_base+'_re('+components[0]+').csv')\n",
    "    data, theta_col, phi_col, volt_col = load_data(fname0)\n",
    "    power = np.empty((len(data), (len(components)))) \n",
    "    theta = data[:, theta_col]\n",
    "    phi = data[:, phi_col]\n",
    "    for i, component in enumerate(components):\n",
    "        real_path=os.path.join('../data/AntennaSimResults', dirpath, fname_base+'_re('+component+').csv')\n",
    "        im_path=os.path.join('../data/AntennaSimResults', dirpath, fname_base+'_im('+component+').csv')\n",
    "        power_component = np.zeros_like(power[:, i])\n",
    "        for path in [real_path, im_path]:\n",
    "            d, th_col, ph_col, v_col = load_data(path)\n",
    "            assert np.allclose(d[:, th_col], theta)\n",
    "            assert np.allclose(d[:, ph_col], phi)\n",
    "            power_component += d[:, v_col]**2  # square the component to get power\n",
    "        power[:, i] = power_component\n",
    "        \n",
    "    volt_beam=np.sqrt(power.sum(axis=1)) # sum over x,y,z-components\n",
    "    \n",
    "    if not save:\n",
    "        return data\n",
    "    else:\n",
    "        outpath=os.path.join('../data/txt_beams', dirpath, fname_base+'.txt')\n",
    "        if not dirpath in os.listdir('../data/txt_beams'):\n",
    "            print(f'{dirpath} not found, making dir')\n",
    "            os.makedirs(os.path.join('../data/txt_beams', dirpath))\n",
    "        np.savetxt(outpath, data, header='Theta [rad] Phi [rad] Abs(V) [V] \\n\\n', comments='')\n",
    "\n",
    "        return outpath"
   ]
  },
  {
   "cell_type": "code",
   "execution_count": 143,
   "id": "09137885",
   "metadata": {},
   "outputs": [],
   "source": [
    "op=to_txt(DIR, FNAME_BASE, save=True)"
   ]
  },
  {
   "cell_type": "markdown",
   "id": "2f315d26",
   "metadata": {},
   "source": [
    "## Initialize UVBeam object"
   ]
  },
  {
   "cell_type": "code",
   "execution_count": 144,
   "id": "d218a13e",
   "metadata": {},
   "outputs": [],
   "source": [
    "uvb=pyuvdata.uvbeam.UVBeam()\n",
    "uvb.read_cst_beam(filename=op, beam_type=\"power\", feed_pol=\"x\", rotate_pol=False,\n",
    "                  frequency=FREQ, telescope_name='lusee-night', feed_name='monopole', feed_version='1.0',\n",
    "                  model_name='in-phase', model_version='1.0', history=\"\", x_orientation='north',\n",
    "                  reference_impedance=50)"
   ]
  },
  {
   "cell_type": "code",
   "execution_count": 147,
   "id": "aea0678a",
   "metadata": {},
   "outputs": [
    {
     "data": {
      "text/plain": [
       "(1, 1, 1, 1, 180, 90)"
      ]
     },
     "execution_count": 147,
     "metadata": {},
     "output_type": "execute_result"
    }
   ],
   "source": [
    "uvb.data_array.shape"
   ]
  },
  {
   "cell_type": "code",
   "execution_count": 149,
   "id": "e727aa48",
   "metadata": {},
   "outputs": [
    {
     "data": {
      "image/png": "[encoded data removed]",
      "text/plain": [
       "<Figure size 432x288 with 2 Axes>"
      ]
     },
     "metadata": {
      "needs_background": "light"
     },
     "output_type": "display_data"
    }
   ],
   "source": [
    "# beam vs phi and theta (data coordinates, extent is [pi/2, 3pi/2, 0, pi])\n",
    "plt.figure()\n",
    "uvtools.plot.waterfall(uvb.data_array[0,0,0,0], mode='real')\n",
    "plt.title('Beam at $\\\\nu=10$ MHz')\n",
    "plt.colorbar()\n",
    "plt.show()"
   ]
  },
  {
   "cell_type": "code",
   "execution_count": 146,
   "id": "f2decb93",
   "metadata": {},
   "outputs": [],
   "source": [
    "beampath=os.path.join('../data/uvbeams', DIR, FNAME_BASE+'.uvbeam')\n",
    "uvb.write_beamfits(beampath, clobber=True)"
   ]
  },
  {
   "cell_type": "code",
   "execution_count": null,
   "id": "d021f4c6",
   "metadata": {},
   "outputs": [],
   "source": []
  },
  {
   "cell_type": "code",
   "execution_count": 95,
   "id": "71318f4a",
   "metadata": {},
   "outputs": [],
   "source": [
    "# uvb=pyuvdata.uvbeam.UVBeam()\n",
    "# uvb.Naxes_vec=3\n",
    "# uvb.Nfreqs=1\n",
    "# uvb.Nspws=1  # only supported value\n",
    "# uvb.antenna_type='simple'\n",
    "# uvb.bandpass_array=np.zeros((uvb.Nspws, uvb.Nfreqs)) # ?\n",
    "# uvb.beam_type='efield'\n",
    "# # feed_pol='xx'\n",
    "# # rot_pol_dict = {\"xx\": \"yy\", \"yy\": \"xx\", \"xy\": \"yx\", \"yx\": \"xy\"}\n",
    "# # pol2 = rot_pol_dict[feed_pol]\n",
    "# # uvb.polarization_array = np.array([utils.polstr2num(feed_pol), utils.polstr2num(pol2)])\n",
    "# # uvb.Npols = len(uvb.polarization_array)\n",
    "# uvb.Npols=1\n",
    "# uvb.Naxes2=np.unique(theta).size\n",
    "# uvb.Naxes1=np.unique(phi).size\n",
    "#  # shape = Naxes_vec, Nspws, Nfeeds or Npols, Nfreqs, Naxes2, Naxes1\n",
    "# uvb.data_array=np.empty((uvb.Naxes_vec,uvb.Nspws,uvb.Npols,uvb.Nfreqs,uvb.Naxes2,uvb.Naxes1), dtype=np.complex64)\n",
    "# for i in range(3):\n",
    "#     uvb.data_array[i, 0, 0, 0, :, :]=E_field[i].T.copy()\n",
    "# uvb.data_normalization='physical'\n",
    "# uvb.feed_name='lusee'\n",
    "# uvb.feed_version='v1.0'\n",
    "# uvb.freq_array=np.expand_dims(np.unique(freq)*1e9, axis=0)\n",
    "# uvb.history=''\n",
    "# uvb.model_name='inphase_25cm'\n",
    "# uvb.model_version='v1.0'\n",
    "# uvb.pixel_coordinate_system='az_za'\n",
    "# uvb.spw_array=np.array([0])\n",
    "# uvb.telescope_name='lusee-night'"
   ]
  }
 ],
 "metadata": {
  "kernelspec": {
   "display_name": "Python 3 (ipykernel)",
   "language": "python",
   "name": "python3"
  },
  "language_info": {
   "codemirror_mode": {
    "name": "ipython",
    "version": 3
   },
   "file_extension": ".py",
   "mimetype": "text/x-python",
   "name": "python",
   "nbconvert_exporter": "python",
   "pygments_lexer": "ipython3",
   "version": "3.8.10"
  }
 },
 "nbformat": 4,
 "nbformat_minor": 5
}
