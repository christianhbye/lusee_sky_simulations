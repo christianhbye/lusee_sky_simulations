{
 "cells": [
  {
   "cell_type": "code",
   "execution_count": 90,
   "id": "da01aede",
   "metadata": {},
   "outputs": [],
   "source": [
    "import os\n",
    "import numpy as np\n",
    "import pyuvdata"
   ]
  },
  {
   "cell_type": "code",
   "execution_count": 91,
   "id": "fe94365e",
   "metadata": {},
   "outputs": [],
   "source": [
    "dirpath='AntennaSimResults/001SweepAntennaAngle/'\n",
    "fname_base='RadiatedElectricField_Freq10MHz_AntennaLength6m_AntennaAngle30deg_LanderHeight2m_in_phase_'\n",
    "components=['re(rEX)', 're(rEY)', 're(rEZ)', 'im(rEX)', 'im(rEY)', 're(rEZ)']\n",
    "components=['rEX', 'rEY', 'rEZ']\n",
    "freq=10*1e6  # Hz\n",
    "phi,theta=np.loadtxt(\n",
    "    os.path.join(dirpath, fname_base+'re('+components[0]+').csv'), skiprows=1, delimiter=',', usecols=(0,1)\n",
    ").T\n",
    "assert phi.size==theta.size\n",
    "data_len=phi.size\n",
    "E_field_mag=np.empty((len(components), data_len))  # magnitude squared of e field components\n",
    "for i, component in enumerate(components):\n",
    "    re_path=os.path.join(dirpath, fname_base+'re('+component+').csv')\n",
    "    im_path=os.path.join(dirpath, fname_base+'im('+component+').csv')\n",
    "    real_part=np.loadtxt(re_path, skiprows=1, delimiter=',', usecols=2)\n",
    "    im_part=np.loadtxt(im_path, skiprows=1, delimiter=',', usecols=2)\n",
    "    E_mag=real_part**2+im_part**2 \n",
    "    E_field_mag[i]=E_mag"
   ]
  },
  {
   "cell_type": "code",
   "execution_count": 92,
   "id": "1be33b3f",
   "metadata": {},
   "outputs": [],
   "source": [
    "volt_beam=np.sqrt(E_field_mag.sum(axis=0)) # sum over x,y,z-components\n",
    "volt_beam/=1e3  # mV to V"
   ]
  },
  {
   "cell_type": "code",
   "execution_count": 93,
   "id": "749968d2",
   "metadata": {},
   "outputs": [],
   "source": [
    "def rev_indices(arr):\n",
    "    return arr.copy().reshape(np.unique(phi).size, np.unique(theta).size, order='F').flatten(order='C')"
   ]
  },
  {
   "cell_type": "code",
   "execution_count": 94,
   "id": "a192b454",
   "metadata": {},
   "outputs": [],
   "source": [
    "data=np.empty((data_len, 3))\n",
    "data[:,0]=rev_indices(theta)\n",
    "data[:,1]=rev_indices(phi)\n",
    "data[:,2]=rev_indices(volt_beam.copy())"
   ]
  },
  {
   "cell_type": "code",
   "execution_count": 106,
   "id": "6af16c0b",
   "metadata": {},
   "outputs": [
    {
     "ename": "TypeError",
     "evalue": "_savetxt_dispatcher() got an unexpected keyword argument 'dtype'",
     "output_type": "error",
     "traceback": [
      "\u001b[0;31m---------------------------------------------------------------------------\u001b[0m",
      "\u001b[0;31mTypeError\u001b[0m                                 Traceback (most recent call last)",
      "\u001b[0;32m/tmp/ipykernel_4126/2561167714.py\u001b[0m in \u001b[0;36m<module>\u001b[0;34m\u001b[0m\n\u001b[0;32m----> 1\u001b[0;31m np.savetxt('csv_beams/test.csv', data, delimiter=',', header='Theta [deg.], Phi [deg.], Abs(V) [V] \\n\\n',\n\u001b[0m\u001b[1;32m      2\u001b[0m           dtype='float')\n",
      "\u001b[0;32m~/Documents/research/lusee/.venv_pyuvsim/lib/python3.8/site-packages/numpy/core/overrides.py\u001b[0m in \u001b[0;36msavetxt\u001b[0;34m(*args, **kwargs)\u001b[0m\n",
      "\u001b[0;31mTypeError\u001b[0m: _savetxt_dispatcher() got an unexpected keyword argument 'dtype'"
     ]
    }
   ],
   "source": [
    "np.savetxt('csv_beams/test.csv', data, delimiter=',', header='Theta [deg.], Phi [deg.], Abs(V) [V] \\n\\n',\n",
    "          dtype='float')"
   ]
  },
  {
   "cell_type": "code",
   "execution_count": 102,
   "id": "dec8dbe5",
   "metadata": {},
   "outputs": [],
   "source": [
    "pyuvdata.uvbeam.UVBeam.read_cst_beam"
   ]
  },
  {
   "cell_type": "code",
   "execution_count": 105,
   "id": "d218a13e",
   "metadata": {},
   "outputs": [
    {
     "ename": "ValueError",
     "evalue": "could not convert string to float: '0.000000000000000000e+00,-1.800000000000000000e+02,3.596288064362942495e-03'",
     "output_type": "error",
     "traceback": [
      "\u001b[0;31m---------------------------------------------------------------------------\u001b[0m",
      "\u001b[0;31mValueError\u001b[0m                                Traceback (most recent call last)",
      "\u001b[0;32m/tmp/ipykernel_4126/3285447198.py\u001b[0m in \u001b[0;36m<module>\u001b[0;34m\u001b[0m\n\u001b[1;32m      1\u001b[0m \u001b[0muvb\u001b[0m\u001b[0;34m=\u001b[0m\u001b[0mpyuvdata\u001b[0m\u001b[0;34m.\u001b[0m\u001b[0muvbeam\u001b[0m\u001b[0;34m.\u001b[0m\u001b[0mUVBeam\u001b[0m\u001b[0;34m(\u001b[0m\u001b[0;34m)\u001b[0m\u001b[0;34m\u001b[0m\u001b[0;34m\u001b[0m\u001b[0m\n\u001b[0;32m----> 2\u001b[0;31m uvb.read_cst_beam(filename='csv_beams/test.csv', beam_type=\"power\", feed_pol=\"x\", rotate_pol=True, frequency=freq,\n\u001b[0m\u001b[1;32m      3\u001b[0m                   \u001b[0mtelescope_name\u001b[0m\u001b[0;34m=\u001b[0m\u001b[0;34m'lusee-night'\u001b[0m\u001b[0;34m,\u001b[0m \u001b[0mfeed_name\u001b[0m\u001b[0;34m=\u001b[0m\u001b[0;34m'monopole'\u001b[0m\u001b[0;34m,\u001b[0m \u001b[0mfeed_version\u001b[0m\u001b[0;34m=\u001b[0m\u001b[0;34m'1.0'\u001b[0m\u001b[0;34m,\u001b[0m \u001b[0mmodel_name\u001b[0m\u001b[0;34m=\u001b[0m\u001b[0;34m'in-phase'\u001b[0m\u001b[0;34m,\u001b[0m\u001b[0;34m\u001b[0m\u001b[0;34m\u001b[0m\u001b[0m\n\u001b[1;32m      4\u001b[0m                   model_version='1.0', history=\"\", x_orientation='north', reference_impedance=50)\n",
      "\u001b[0;32m~/Documents/research/lusee/.venv_pyuvsim/lib/python3.8/site-packages/pyuvdata/uvbeam/uvbeam.py\u001b[0m in \u001b[0;36mread_cst_beam\u001b[0;34m(self, filename, beam_type, feed_pol, rotate_pol, frequency, telescope_name, feed_name, feed_version, model_name, model_version, history, x_orientation, reference_impedance, extra_keywords, frequency_select, run_check, check_extra, run_check_acceptability)\u001b[0m\n\u001b[1;32m   3380\u001b[0m                 \u001b[0mrotate_pol\u001b[0m \u001b[0;34m=\u001b[0m \u001b[0;32mTrue\u001b[0m\u001b[0;34m\u001b[0m\u001b[0;34m\u001b[0m\u001b[0m\n\u001b[1;32m   3381\u001b[0m             \u001b[0mcst_beam_obj\u001b[0m \u001b[0;34m=\u001b[0m \u001b[0mcst_beam\u001b[0m\u001b[0;34m.\u001b[0m\u001b[0mCSTBeam\u001b[0m\u001b[0;34m(\u001b[0m\u001b[0;34m)\u001b[0m\u001b[0;34m\u001b[0m\u001b[0;34m\u001b[0m\u001b[0m\n\u001b[0;32m-> 3382\u001b[0;31m             cst_beam_obj.read_cst_beam(\n\u001b[0m\u001b[1;32m   3383\u001b[0m                 \u001b[0mcst_filename\u001b[0m\u001b[0;34m,\u001b[0m\u001b[0;34m\u001b[0m\u001b[0;34m\u001b[0m\u001b[0m\n\u001b[1;32m   3384\u001b[0m                 \u001b[0mbeam_type\u001b[0m\u001b[0;34m=\u001b[0m\u001b[0mbeam_type\u001b[0m\u001b[0;34m,\u001b[0m\u001b[0;34m\u001b[0m\u001b[0;34m\u001b[0m\u001b[0m\n",
      "\u001b[0;32m~/Documents/research/lusee/.venv_pyuvsim/lib/python3.8/site-packages/pyuvdata/uvbeam/cst_beam.py\u001b[0m in \u001b[0;36mread_cst_beam\u001b[0;34m(self, filename, beam_type, feed_pol, rotate_pol, frequency, telescope_name, feed_name, feed_version, model_name, model_version, history, x_orientation, reference_impedance, extra_keywords, run_check, check_extra, run_check_acceptability)\u001b[0m\n\u001b[1;32m    206\u001b[0m             \u001b[0munits\u001b[0m\u001b[0;34m.\u001b[0m\u001b[0mappend\u001b[0m\u001b[0;34m(\u001b[0m\u001b[0munit\u001b[0m\u001b[0;34m.\u001b[0m\u001b[0mlower\u001b[0m\u001b[0;34m(\u001b[0m\u001b[0;34m)\u001b[0m\u001b[0;34m.\u001b[0m\u001b[0mstrip\u001b[0m\u001b[0;34m(\u001b[0m\u001b[0;34m)\u001b[0m\u001b[0;34m)\u001b[0m\u001b[0;34m\u001b[0m\u001b[0;34m\u001b[0m\u001b[0m\n\u001b[1;32m    207\u001b[0m \u001b[0;34m\u001b[0m\u001b[0m\n\u001b[0;32m--> 208\u001b[0;31m         \u001b[0mdata\u001b[0m \u001b[0;34m=\u001b[0m \u001b[0mnp\u001b[0m\u001b[0;34m.\u001b[0m\u001b[0mloadtxt\u001b[0m\u001b[0;34m(\u001b[0m\u001b[0mfilename\u001b[0m\u001b[0;34m,\u001b[0m \u001b[0mskiprows\u001b[0m\u001b[0;34m=\u001b[0m\u001b[0;36m2\u001b[0m\u001b[0;34m)\u001b[0m\u001b[0;34m\u001b[0m\u001b[0;34m\u001b[0m\u001b[0m\n\u001b[0m\u001b[1;32m    209\u001b[0m \u001b[0;34m\u001b[0m\u001b[0m\n\u001b[1;32m    210\u001b[0m         \u001b[0mtheta_col\u001b[0m \u001b[0;34m=\u001b[0m \u001b[0mnp\u001b[0m\u001b[0;34m.\u001b[0m\u001b[0mwhere\u001b[0m\u001b[0;34m(\u001b[0m\u001b[0mnp\u001b[0m\u001b[0;34m.\u001b[0m\u001b[0marray\u001b[0m\u001b[0;34m(\u001b[0m\u001b[0mcolumn_names\u001b[0m\u001b[0;34m)\u001b[0m \u001b[0;34m==\u001b[0m \u001b[0;34m\"theta\"\u001b[0m\u001b[0;34m)\u001b[0m\u001b[0;34m[\u001b[0m\u001b[0;36m0\u001b[0m\u001b[0;34m]\u001b[0m\u001b[0;34m[\u001b[0m\u001b[0;36m0\u001b[0m\u001b[0;34m]\u001b[0m\u001b[0;34m\u001b[0m\u001b[0;34m\u001b[0m\u001b[0m\n",
      "\u001b[0;32m~/Documents/research/lusee/.venv_pyuvsim/lib/python3.8/site-packages/numpy/lib/npyio.py\u001b[0m in \u001b[0;36mloadtxt\u001b[0;34m(fname, dtype, comments, delimiter, converters, skiprows, usecols, unpack, ndmin, encoding, max_rows, like)\u001b[0m\n\u001b[1;32m   1161\u001b[0m                 \u001b[0;31m# Convert each value according to its column, then pack it\u001b[0m\u001b[0;34m\u001b[0m\u001b[0;34m\u001b[0m\u001b[0;34m\u001b[0m\u001b[0m\n\u001b[1;32m   1162\u001b[0m                 \u001b[0;31m# according to the dtype's nesting, and store it.\u001b[0m\u001b[0;34m\u001b[0m\u001b[0;34m\u001b[0m\u001b[0;34m\u001b[0m\u001b[0m\n\u001b[0;32m-> 1163\u001b[0;31m                 \u001b[0mchunk\u001b[0m\u001b[0;34m.\u001b[0m\u001b[0mappend\u001b[0m\u001b[0;34m(\u001b[0m\u001b[0mpacker\u001b[0m\u001b[0;34m(\u001b[0m\u001b[0mconvert_row\u001b[0m\u001b[0;34m(\u001b[0m\u001b[0mwords\u001b[0m\u001b[0;34m)\u001b[0m\u001b[0;34m)\u001b[0m\u001b[0;34m)\u001b[0m\u001b[0;34m\u001b[0m\u001b[0;34m\u001b[0m\u001b[0m\n\u001b[0m\u001b[1;32m   1164\u001b[0m             \u001b[0;32mif\u001b[0m \u001b[0;32mnot\u001b[0m \u001b[0mchunk\u001b[0m\u001b[0;34m:\u001b[0m  \u001b[0;31m# The islice is empty, i.e. we're done.\u001b[0m\u001b[0;34m\u001b[0m\u001b[0;34m\u001b[0m\u001b[0m\n\u001b[1;32m   1165\u001b[0m                 \u001b[0;32mbreak\u001b[0m\u001b[0;34m\u001b[0m\u001b[0;34m\u001b[0m\u001b[0m\n",
      "\u001b[0;32m~/Documents/research/lusee/.venv_pyuvsim/lib/python3.8/site-packages/numpy/lib/npyio.py\u001b[0m in \u001b[0;36mconvert_row\u001b[0;34m(vals, _conv)\u001b[0m\n\u001b[1;32m   1140\u001b[0m             \u001b[0;31m# equal dtypes.\u001b[0m\u001b[0;34m\u001b[0m\u001b[0;34m\u001b[0m\u001b[0;34m\u001b[0m\u001b[0m\n\u001b[1;32m   1141\u001b[0m             \u001b[0;32mdef\u001b[0m \u001b[0mconvert_row\u001b[0m\u001b[0;34m(\u001b[0m\u001b[0mvals\u001b[0m\u001b[0;34m,\u001b[0m \u001b[0m_conv\u001b[0m\u001b[0;34m=\u001b[0m\u001b[0mconverters\u001b[0m\u001b[0;34m[\u001b[0m\u001b[0;36m0\u001b[0m\u001b[0;34m]\u001b[0m\u001b[0;34m)\u001b[0m\u001b[0;34m:\u001b[0m\u001b[0;34m\u001b[0m\u001b[0;34m\u001b[0m\u001b[0m\n\u001b[0;32m-> 1142\u001b[0;31m                 \u001b[0;32mreturn\u001b[0m \u001b[0;34m[\u001b[0m\u001b[0;34m*\u001b[0m\u001b[0mmap\u001b[0m\u001b[0;34m(\u001b[0m\u001b[0m_conv\u001b[0m\u001b[0;34m,\u001b[0m \u001b[0mvals\u001b[0m\u001b[0;34m)\u001b[0m\u001b[0;34m]\u001b[0m\u001b[0;34m\u001b[0m\u001b[0;34m\u001b[0m\u001b[0m\n\u001b[0m\u001b[1;32m   1143\u001b[0m         \u001b[0;32melse\u001b[0m\u001b[0;34m:\u001b[0m\u001b[0;34m\u001b[0m\u001b[0;34m\u001b[0m\u001b[0m\n\u001b[1;32m   1144\u001b[0m             \u001b[0;32mdef\u001b[0m \u001b[0mconvert_row\u001b[0m\u001b[0;34m(\u001b[0m\u001b[0mvals\u001b[0m\u001b[0;34m)\u001b[0m\u001b[0;34m:\u001b[0m\u001b[0;34m\u001b[0m\u001b[0;34m\u001b[0m\u001b[0m\n",
      "\u001b[0;32m~/Documents/research/lusee/.venv_pyuvsim/lib/python3.8/site-packages/numpy/lib/npyio.py\u001b[0m in \u001b[0;36m_floatconv\u001b[0;34m(x)\u001b[0m\n\u001b[1;32m    723\u001b[0m \u001b[0;32mdef\u001b[0m \u001b[0m_floatconv\u001b[0m\u001b[0;34m(\u001b[0m\u001b[0mx\u001b[0m\u001b[0;34m)\u001b[0m\u001b[0;34m:\u001b[0m\u001b[0;34m\u001b[0m\u001b[0;34m\u001b[0m\u001b[0m\n\u001b[1;32m    724\u001b[0m     \u001b[0;32mtry\u001b[0m\u001b[0;34m:\u001b[0m\u001b[0;34m\u001b[0m\u001b[0;34m\u001b[0m\u001b[0m\n\u001b[0;32m--> 725\u001b[0;31m         \u001b[0;32mreturn\u001b[0m \u001b[0mfloat\u001b[0m\u001b[0;34m(\u001b[0m\u001b[0mx\u001b[0m\u001b[0;34m)\u001b[0m  \u001b[0;31m# The fastest path.\u001b[0m\u001b[0;34m\u001b[0m\u001b[0;34m\u001b[0m\u001b[0m\n\u001b[0m\u001b[1;32m    726\u001b[0m     \u001b[0;32mexcept\u001b[0m \u001b[0mValueError\u001b[0m\u001b[0;34m:\u001b[0m\u001b[0;34m\u001b[0m\u001b[0;34m\u001b[0m\u001b[0m\n\u001b[1;32m    727\u001b[0m         \u001b[0;32mif\u001b[0m \u001b[0;34m'0x'\u001b[0m \u001b[0;32min\u001b[0m \u001b[0mx\u001b[0m\u001b[0;34m:\u001b[0m  \u001b[0;31m# Don't accidentally convert \"a\" (\"0xa\") to 10.\u001b[0m\u001b[0;34m\u001b[0m\u001b[0;34m\u001b[0m\u001b[0m\n",
      "\u001b[0;31mValueError\u001b[0m: could not convert string to float: '0.000000000000000000e+00,-1.800000000000000000e+02,3.596288064362942495e-03'"
     ]
    }
   ],
   "source": [
    "uvb=pyuvdata.uvbeam.UVBeam()\n",
    "uvb.read_cst_beam(filename='csv_beams/test.csv', beam_type=\"power\", feed_pol=\"x\", rotate_pol=True, frequency=freq,\n",
    "                  telescope_name='lusee-night', feed_name='monopole', feed_version='1.0', model_name='in-phase',\n",
    "                  model_version='1.0', history=\"\", x_orientation='north', reference_impedance=50)"
   ]
  },
  {
   "cell_type": "code",
   "execution_count": 62,
   "id": "71318f4a",
   "metadata": {},
   "outputs": [],
   "source": [
    "uvb=pyuvdata.uvbeam.UVBeam()\n",
    "uvb.Naxes_vec=3\n",
    "uvb.Nfreqs=1\n",
    "uvb.Nspws=1  # only supported value\n",
    "uvb.antenna_type='simple'\n",
    "uvb.bandpass_array=np.zeros((uvb.Nspws, uvb.Nfreqs)) # ?\n",
    "uvb.beam_type='efield'\n",
    "# feed_pol='xx'\n",
    "# rot_pol_dict = {\"xx\": \"yy\", \"yy\": \"xx\", \"xy\": \"yx\", \"yx\": \"xy\"}\n",
    "# pol2 = rot_pol_dict[feed_pol]\n",
    "# uvb.polarization_array = np.array([utils.polstr2num(feed_pol), utils.polstr2num(pol2)])\n",
    "# uvb.Npols = len(uvb.polarization_array)\n",
    "uvb.Npols=1\n",
    "uvb.Naxes2=np.unique(theta).size\n",
    "uvb.Naxes1=np.unique(phi).size\n",
    " # shape = Naxes_vec, Nspws, Nfeeds or Npols, Nfreqs, Naxes2, Naxes1\n",
    "uvb.data_array=np.empty((uvb.Naxes_vec,uvb.Nspws,uvb.Npols,uvb.Nfreqs,uvb.Naxes2,uvb.Naxes1), dtype=np.complex64)\n",
    "for i in range(3):\n",
    "    uvb.data_array[i, 0, 0, 0, :, :]=E_field[i].T.copy()\n",
    "uvb.data_normalization='physical'\n",
    "uvb.feed_name='lusee'\n",
    "uvb.feed_version='v1.0'\n",
    "uvb.freq_array=np.expand_dims(np.unique(freq)*1e9, axis=0)\n",
    "uvb.history=''\n",
    "uvb.model_name='inphase_25cm'\n",
    "uvb.model_version='v1.0'\n",
    "uvb.pixel_coordinate_system='az_za'\n",
    "uvb.spw_array=np.array([0])\n",
    "uvb.telescope_name='lusee-night'"
   ]
  },
  {
   "cell_type": "code",
   "execution_count": 57,
   "id": "7cfd6df3",
   "metadata": {},
   "outputs": [
    {
     "data": {
      "text/plain": [
       "(3, 181, 91)"
      ]
     },
     "execution_count": 57,
     "metadata": {},
     "output_type": "execute_result"
    }
   ],
   "source": [
    "E_field.shape"
   ]
  },
  {
   "cell_type": "code",
   "execution_count": 56,
   "id": "382dacb0",
   "metadata": {},
   "outputs": [
    {
     "data": {
      "text/plain": [
       "(3, 1, 1, 1, 91, 181)"
      ]
     },
     "execution_count": 56,
     "metadata": {},
     "output_type": "execute_result"
    }
   ],
   "source": [
    "uvb.data_array.shape"
   ]
  },
  {
   "cell_type": "code",
   "execution_count": 120,
   "id": "50f97b11",
   "metadata": {},
   "outputs": [],
   "source": [
    "for i, f in enumerate(np.unique(freq)):\n",
    "    freq_indices=np.argwhere(freq==f)[:,0]\n",
    "    uvb.data_array[0,0,0,i,:,:]=gain[freq_indices].reshape(\n",
    "        (np.unique(theta).size, np.unique(phi).size), order='F'\n",
    "    )"
   ]
  },
  {
   "cell_type": "code",
   "execution_count": 129,
   "id": "b1d62195",
   "metadata": {},
   "outputs": [
    {
     "data": {
      "text/plain": [
       "2.0"
      ]
     },
     "execution_count": 129,
     "metadata": {},
     "output_type": "execute_result"
    }
   ],
   "source": [
    "freq[0]*1e2"
   ]
  }
 ],
 "metadata": {
  "kernelspec": {
   "display_name": "Python 3 (ipykernel)",
   "language": "python",
   "name": "python3"
  },
  "language_info": {
   "codemirror_mode": {
    "name": "ipython",
    "version": 3
   },
   "file_extension": ".py",
   "mimetype": "text/x-python",
   "name": "python",
   "nbconvert_exporter": "python",
   "pygments_lexer": "ipython3",
   "version": "3.8.10"
  }
 },
 "nbformat": 4,
 "nbformat_minor": 5
}
